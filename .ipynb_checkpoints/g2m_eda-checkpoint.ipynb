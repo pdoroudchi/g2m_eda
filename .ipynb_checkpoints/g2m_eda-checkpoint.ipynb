{
 "cells": [
  {
   "cell_type": "code",
   "execution_count": 1,
   "id": "31336070",
   "metadata": {},
   "outputs": [],
   "source": [
    "import pandas as pd"
   ]
  },
  {
   "cell_type": "code",
   "execution_count": 22,
   "id": "2927926f",
   "metadata": {},
   "outputs": [
    {
     "name": "stdout",
     "output_type": "stream",
     "text": [
      "        Transaction ID  Date of Travel     Company           City  \\\n",
      "0             10000011           42377    Pink Cab     ATLANTA GA   \n",
      "1             10000012           42375    Pink Cab     ATLANTA GA   \n",
      "2             10000013           42371    Pink Cab     ATLANTA GA   \n",
      "3             10000014           42376    Pink Cab     ATLANTA GA   \n",
      "4             10000015           42372    Pink Cab     ATLANTA GA   \n",
      "...                ...             ...         ...            ...   \n",
      "359387        10440101           43108  Yellow Cab  WASHINGTON DC   \n",
      "359388        10440104           43104  Yellow Cab  WASHINGTON DC   \n",
      "359389        10440105           43105  Yellow Cab  WASHINGTON DC   \n",
      "359390        10440106           43105  Yellow Cab  WASHINGTON DC   \n",
      "359391        10440107           43102  Yellow Cab  WASHINGTON DC   \n",
      "\n",
      "        KM Travelled  Price Charged  Cost of Trip  \n",
      "0              30.45         370.95      313.6350  \n",
      "1              28.62         358.52      334.8540  \n",
      "2               9.04         125.20       97.6320  \n",
      "3              33.17         377.40      351.6020  \n",
      "4               8.73         114.62       97.7760  \n",
      "...              ...            ...           ...  \n",
      "359387          4.80          69.24       63.3600  \n",
      "359388          8.40         113.75      106.8480  \n",
      "359389         27.75         437.07      349.6500  \n",
      "359390          8.80         146.19      114.0480  \n",
      "359391         12.76         191.58      177.6192  \n",
      "\n",
      "[359392 rows x 7 columns]\n"
     ]
    }
   ],
   "source": [
    "df1 = pd.read_csv('DataSets/Cab_Data.csv')\n",
    "print(df1)"
   ]
  },
  {
   "cell_type": "code",
   "execution_count": 24,
   "id": "db750758",
   "metadata": {},
   "outputs": [
    {
     "name": "stdout",
     "output_type": "stream",
     "text": [
      "       Customer ID  Gender  Age  Income (USD/Month)\n",
      "0            29290    Male   28               10813\n",
      "1            27703    Male   27                9237\n",
      "2            28712    Male   53               11242\n",
      "3            28020    Male   23               23327\n",
      "4            27182    Male   33                8536\n",
      "...            ...     ...  ...                 ...\n",
      "49166        12490    Male   33               18713\n",
      "49167        14971    Male   30               15346\n",
      "49168        41414    Male   38                3960\n",
      "49169        41677    Male   23               19454\n",
      "49170        39761  Female   32               10128\n",
      "\n",
      "[49171 rows x 4 columns]\n"
     ]
    }
   ],
   "source": [
    "df2 = pd.read_csv('DataSets/Customer_ID.csv')\n",
    "print(df2)"
   ]
  },
  {
   "cell_type": "code",
   "execution_count": 25,
   "id": "d7d26ab4",
   "metadata": {},
   "outputs": [
    {
     "name": "stdout",
     "output_type": "stream",
     "text": [
      "        Transaction ID  Customer ID Payment_Mode\n",
      "0             10000011        29290         Card\n",
      "1             10000012        27703         Card\n",
      "2             10000013        28712         Cash\n",
      "3             10000014        28020         Cash\n",
      "4             10000015        27182         Card\n",
      "...                ...          ...          ...\n",
      "440093        10440104        53286         Cash\n",
      "440094        10440105        52265         Cash\n",
      "440095        10440106        52175         Card\n",
      "440096        10440107        52917         Card\n",
      "440097        10440108        51587         Card\n",
      "\n",
      "[440098 rows x 3 columns]\n"
     ]
    }
   ],
   "source": [
    "df3 = pd.read_csv('DataSets/Transaction_ID.csv')\n",
    "print(df3)"
   ]
  },
  {
   "cell_type": "code",
   "execution_count": 26,
   "id": "c0543d41",
   "metadata": {},
   "outputs": [
    {
     "name": "stdout",
     "output_type": "stream",
     "text": [
      "                City   Population      Users\n",
      "0        NEW YORK NY   8,405,837    302,149 \n",
      "1         CHICAGO IL   1,955,130    164,468 \n",
      "2     LOS ANGELES CA   1,595,037    144,132 \n",
      "3           MIAMI FL   1,339,155     17,675 \n",
      "4     SILICON VALLEY   1,177,609     27,247 \n",
      "5      ORANGE COUNTY   1,030,185     12,994 \n",
      "6       SAN DIEGO CA     959,307     69,995 \n",
      "7         PHOENIX AZ     943,999      6,133 \n",
      "8          DALLAS TX     942,908     22,157 \n",
      "9         ATLANTA GA     814,885     24,701 \n",
      "10         DENVER CO     754,233     12,421 \n",
      "11         AUSTIN TX     698,371     14,978 \n",
      "12        SEATTLE WA     671,238     25,063 \n",
      "13         TUCSON AZ     631,442      5,712 \n",
      "14  SAN FRANCISCO CA     629,591    213,609 \n",
      "15     SACRAMENTO CA     545,776      7,044 \n",
      "16     PITTSBURGH PA     542,085      3,643 \n",
      "17     WASHINGTON DC     418,859    127,001 \n",
      "18      NASHVILLE TN     327,225      9,270 \n",
      "19         BOSTON MA     248,968     80,021 \n"
     ]
    }
   ],
   "source": [
    "df4 = pd.read_csv('DataSets/City.csv')\n",
    "print(df4)"
   ]
  },
  {
   "cell_type": "code",
   "execution_count": 33,
   "id": "cb4ba31b",
   "metadata": {},
   "outputs": [
    {
     "name": "stdout",
     "output_type": "stream",
     "text": [
      "        Transaction ID  Customer ID Payment_Mode  Date of Travel     Company  \\\n",
      "0             10000011        29290         Card           42377    Pink Cab   \n",
      "1             10000012        27703         Card           42375    Pink Cab   \n",
      "2             10000013        28712         Cash           42371    Pink Cab   \n",
      "3             10000014        28020         Cash           42376    Pink Cab   \n",
      "4             10000015        27182         Card           42372    Pink Cab   \n",
      "...                ...          ...          ...             ...         ...   \n",
      "359387        10440101        52392         Cash           43108  Yellow Cab   \n",
      "359388        10440104        53286         Cash           43104  Yellow Cab   \n",
      "359389        10440105        52265         Cash           43105  Yellow Cab   \n",
      "359390        10440106        52175         Card           43105  Yellow Cab   \n",
      "359391        10440107        52917         Card           43102  Yellow Cab   \n",
      "\n",
      "                 City  KM Travelled  Price Charged  Cost of Trip  \n",
      "0          ATLANTA GA         30.45         370.95      313.6350  \n",
      "1          ATLANTA GA         28.62         358.52      334.8540  \n",
      "2          ATLANTA GA          9.04         125.20       97.6320  \n",
      "3          ATLANTA GA         33.17         377.40      351.6020  \n",
      "4          ATLANTA GA          8.73         114.62       97.7760  \n",
      "...               ...           ...            ...           ...  \n",
      "359387  WASHINGTON DC          4.80          69.24       63.3600  \n",
      "359388  WASHINGTON DC          8.40         113.75      106.8480  \n",
      "359389  WASHINGTON DC         27.75         437.07      349.6500  \n",
      "359390  WASHINGTON DC          8.80         146.19      114.0480  \n",
      "359391  WASHINGTON DC         12.76         191.58      177.6192  \n",
      "\n",
      "[359392 rows x 9 columns]\n"
     ]
    }
   ],
   "source": [
    "df5 = df3.merge(df1, on = 'Transaction ID')\n",
    "print(df5)"
   ]
  },
  {
   "cell_type": "code",
   "execution_count": 34,
   "id": "2f1d754f",
   "metadata": {},
   "outputs": [
    {
     "name": "stdout",
     "output_type": "stream",
     "text": [
      "        Customer ID  Gender  Age  Income (USD/Month)  Transaction ID  \\\n",
      "0             29290    Male   28               10813        10000011   \n",
      "1             29290    Male   28               10813        10351127   \n",
      "2             29290    Male   28               10813        10412921   \n",
      "3             27703    Male   27                9237        10000012   \n",
      "4             27703    Male   27                9237        10320494   \n",
      "...             ...     ...  ...                 ...             ...   \n",
      "359387        38520  Female   42               19417        10439790   \n",
      "359388        12490    Male   33               18713        10439799   \n",
      "359389        41414    Male   38                3960        10439838   \n",
      "359390        41677    Male   23               19454        10439840   \n",
      "359391        39761  Female   32               10128        10439846   \n",
      "\n",
      "       Payment_Mode  Date of Travel     Company            City  KM Travelled  \\\n",
      "0              Card           42377    Pink Cab      ATLANTA GA         30.45   \n",
      "1              Cash           43302  Yellow Cab      ATLANTA GA         26.19   \n",
      "2              Card           43427  Yellow Cab      ATLANTA GA         42.55   \n",
      "3              Card           42375    Pink Cab      ATLANTA GA         28.62   \n",
      "4              Card           43211  Yellow Cab      ATLANTA GA         36.38   \n",
      "...             ...             ...         ...             ...           ...   \n",
      "359387         Card           43107  Yellow Cab      SEATTLE WA         16.66   \n",
      "359388         Cash           43103  Yellow Cab  SILICON VALLEY         13.72   \n",
      "359389         Card           43104  Yellow Cab       TUCSON AZ         19.00   \n",
      "359390         Cash           43106  Yellow Cab       TUCSON AZ          5.60   \n",
      "359391         Card           43104  Yellow Cab       TUCSON AZ         13.30   \n",
      "\n",
      "        Price Charged  Cost of Trip  \n",
      "0              370.95      313.6350  \n",
      "1              598.70      317.4228  \n",
      "2              792.05      597.4020  \n",
      "3              358.52      334.8540  \n",
      "4              721.10      467.1192  \n",
      "...               ...           ...  \n",
      "359387         261.18      213.9144  \n",
      "359388         277.97      172.8720  \n",
      "359389         303.77      232.5600  \n",
      "359390          92.42       70.5600  \n",
      "359391         244.65      180.3480  \n",
      "\n",
      "[359392 rows x 12 columns]\n"
     ]
    }
   ],
   "source": [
    "df6 = df2.merge(df5, on = 'Customer ID')\n",
    "print(df6)"
   ]
  },
  {
   "cell_type": "code",
   "execution_count": 35,
   "id": "83cf2ce8",
   "metadata": {},
   "outputs": [
    {
     "name": "stdout",
     "output_type": "stream",
     "text": [
      "        Customer ID  Gender  Age  Income (USD/Month)  Transaction ID  \\\n",
      "0             29290    Male   28               10813        10000011   \n",
      "1             29290    Male   28               10813        10351127   \n",
      "2             29290    Male   28               10813        10412921   \n",
      "3             27703    Male   27                9237        10000012   \n",
      "4             27703    Male   27                9237        10320494   \n",
      "...             ...     ...  ...                 ...             ...   \n",
      "359387        51406  Female   29                6829        10307228   \n",
      "359388        51406  Female   29                6829        10319775   \n",
      "359389        51406  Female   29                6829        10347676   \n",
      "359390        51406  Female   29                6829        10358624   \n",
      "359391        51406  Female   29                6829        10370709   \n",
      "\n",
      "       Payment_Mode  Date of Travel     Company           City  KM Travelled  \\\n",
      "0              Card           42377    Pink Cab     ATLANTA GA         30.45   \n",
      "1              Cash           43302  Yellow Cab     ATLANTA GA         26.19   \n",
      "2              Card           43427  Yellow Cab     ATLANTA GA         42.55   \n",
      "3              Card           42375    Pink Cab     ATLANTA GA         28.62   \n",
      "4              Card           43211  Yellow Cab     ATLANTA GA         36.38   \n",
      "...             ...             ...         ...            ...           ...   \n",
      "359387         Cash           43162  Yellow Cab  WASHINGTON DC         38.40   \n",
      "359388         Cash           43203  Yellow Cab  WASHINGTON DC          3.57   \n",
      "359389         Card           43287  Yellow Cab  WASHINGTON DC         23.46   \n",
      "359390         Cash           43314  Yellow Cab  WASHINGTON DC         27.60   \n",
      "359391         Card           43342  Yellow Cab  WASHINGTON DC         34.24   \n",
      "\n",
      "        Price Charged  Cost of Trip Population      Users  \n",
      "0              370.95      313.6350   814,885     24,701   \n",
      "1              598.70      317.4228   814,885     24,701   \n",
      "2              792.05      597.4020   814,885     24,701   \n",
      "3              358.52      334.8540   814,885     24,701   \n",
      "4              721.10      467.1192   814,885     24,701   \n",
      "...               ...           ...        ...        ...  \n",
      "359387         668.93      525.3120   418,859    127,001   \n",
      "359388          67.60       44.5536   418,859    127,001   \n",
      "359389         331.97      337.8240   418,859    127,001   \n",
      "359390         358.23      364.3200   418,859    127,001   \n",
      "359391         453.11      427.3152   418,859    127,001   \n",
      "\n",
      "[359392 rows x 14 columns]\n"
     ]
    }
   ],
   "source": [
    "df_complete = df6.merge(df4, on = 'City')\n",
    "print(df_complete)"
   ]
  },
  {
   "cell_type": "code",
   "execution_count": 51,
   "id": "c72e180a",
   "metadata": {},
   "outputs": [
    {
     "name": "stdout",
     "output_type": "stream",
     "text": [
      "['Customer ID', 'Gender', 'Age', 'Income (USD/Month)', 'Transaction ID', 'Payment_Mode', 'Date of Travel', 'Company', 'City', 'KM Travelled', 'Price Charged', 'Cost of Trip', 'Population', 'Users']\n",
      "        Customer ID  Gender  Age  Income (USD/Month)  Transaction ID  \\\n",
      "0             29290    Male   28               10813        10000011   \n",
      "1             29290    Male   28               10813        10351127   \n",
      "2             29290    Male   28               10813        10412921   \n",
      "3             27703    Male   27                9237        10000012   \n",
      "4             27703    Male   27                9237        10320494   \n",
      "...             ...     ...  ...                 ...             ...   \n",
      "359387        51406  Female   29                6829        10307228   \n",
      "359388        51406  Female   29                6829        10319775   \n",
      "359389        51406  Female   29                6829        10347676   \n",
      "359390        51406  Female   29                6829        10358624   \n",
      "359391        51406  Female   29                6829        10370709   \n",
      "\n",
      "       Payment_Mode  Date of Travel     Company           City Population  \\\n",
      "0              Card           42377    Pink Cab     ATLANTA GA   814,885    \n",
      "1              Cash           43302  Yellow Cab     ATLANTA GA   814,885    \n",
      "2              Card           43427  Yellow Cab     ATLANTA GA   814,885    \n",
      "3              Card           42375    Pink Cab     ATLANTA GA   814,885    \n",
      "4              Card           43211  Yellow Cab     ATLANTA GA   814,885    \n",
      "...             ...             ...         ...            ...        ...   \n",
      "359387         Cash           43162  Yellow Cab  WASHINGTON DC   418,859    \n",
      "359388         Cash           43203  Yellow Cab  WASHINGTON DC   418,859    \n",
      "359389         Card           43287  Yellow Cab  WASHINGTON DC   418,859    \n",
      "359390         Cash           43314  Yellow Cab  WASHINGTON DC   418,859    \n",
      "359391         Card           43342  Yellow Cab  WASHINGTON DC   418,859    \n",
      "\n",
      "            Users  KM Travelled  Price Charged  Cost of Trip  \n",
      "0         24,701          30.45         370.95      313.6350  \n",
      "1         24,701          26.19         598.70      317.4228  \n",
      "2         24,701          42.55         792.05      597.4020  \n",
      "3         24,701          28.62         358.52      334.8540  \n",
      "4         24,701          36.38         721.10      467.1192  \n",
      "...           ...           ...            ...           ...  \n",
      "359387   127,001          38.40         668.93      525.3120  \n",
      "359388   127,001           3.57          67.60       44.5536  \n",
      "359389   127,001          23.46         331.97      337.8240  \n",
      "359390   127,001          27.60         358.23      364.3200  \n",
      "359391   127,001          34.24         453.11      427.3152  \n",
      "\n",
      "[359392 rows x 14 columns]\n"
     ]
    }
   ],
   "source": [
    "cols = df_complete.columns.tolist()\n",
    "print(cols)\n",
    "cols = cols[:9] + cols[12:] + cols[9:12]\n",
    "df_complete = df_complete[cols]\n",
    "print(df_complete)"
   ]
  },
  {
   "cell_type": "code",
   "execution_count": null,
   "id": "fb6b82b5",
   "metadata": {},
   "outputs": [],
   "source": []
  },
  {
   "cell_type": "code",
   "execution_count": null,
   "id": "ee52d1c8",
   "metadata": {},
   "outputs": [],
   "source": []
  }
 ],
 "metadata": {
  "kernelspec": {
   "display_name": "Python 3 (ipykernel)",
   "language": "python",
   "name": "python3"
  },
  "language_info": {
   "codemirror_mode": {
    "name": "ipython",
    "version": 3
   },
   "file_extension": ".py",
   "mimetype": "text/x-python",
   "name": "python",
   "nbconvert_exporter": "python",
   "pygments_lexer": "ipython3",
   "version": "3.9.7"
  }
 },
 "nbformat": 4,
 "nbformat_minor": 5
}
