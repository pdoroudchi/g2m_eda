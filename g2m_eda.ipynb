{
 "cells": [
  {
   "cell_type": "markdown",
   "id": "2a294a1c",
   "metadata": {},
   "source": [
    "# Go-to-Market Exploratory Data Analysis\n",
    "# Pedram Doroudchi"
   ]
  },
  {
   "cell_type": "markdown",
   "id": "1bbd9777",
   "metadata": {},
   "source": [
    "## The Business Problem"
   ]
  },
  {
   "cell_type": "markdown",
   "id": "ea21d65d",
   "metadata": {},
   "source": [
    "XYZ is a private firm in the US. Due to remarkable growth in the cab industry during the last few years and multiple key players in the market, it is planning to make an investment in the cab industry.\n",
    "\n",
    "We have been provided with multiple data sets that contain information on 2 cab companies, Pink Cab and Yellow Cab Company. Each file (data set) provided represents different aspects of the customer profile."
   ]
  },
  {
   "cell_type": "markdown",
   "id": "60cc75c5",
   "metadata": {},
   "source": [
    "## Objective"
   ]
  },
  {
   "cell_type": "markdown",
   "id": "c55b3969",
   "metadata": {},
   "source": [
    "Provide actionable insights to help XYZ identify the right company in which to invest."
   ]
  },
  {
   "cell_type": "code",
   "execution_count": 1007,
   "id": "31336070",
   "metadata": {},
   "outputs": [],
   "source": [
    "import pandas as pd"
   ]
  },
  {
   "cell_type": "code",
   "execution_count": 1008,
   "id": "2927926f",
   "metadata": {},
   "outputs": [
    {
     "name": "stdout",
     "output_type": "stream",
     "text": [
      "        Transaction ID  Date of Travel     Company           City  \\\n",
      "0             10000011           42377    Pink Cab     ATLANTA GA   \n",
      "1             10000012           42375    Pink Cab     ATLANTA GA   \n",
      "2             10000013           42371    Pink Cab     ATLANTA GA   \n",
      "3             10000014           42376    Pink Cab     ATLANTA GA   \n",
      "4             10000015           42372    Pink Cab     ATLANTA GA   \n",
      "...                ...             ...         ...            ...   \n",
      "359387        10440101           43108  Yellow Cab  WASHINGTON DC   \n",
      "359388        10440104           43104  Yellow Cab  WASHINGTON DC   \n",
      "359389        10440105           43105  Yellow Cab  WASHINGTON DC   \n",
      "359390        10440106           43105  Yellow Cab  WASHINGTON DC   \n",
      "359391        10440107           43102  Yellow Cab  WASHINGTON DC   \n",
      "\n",
      "        KM Travelled  Price Charged  Cost of Trip  \n",
      "0              30.45         370.95      313.6350  \n",
      "1              28.62         358.52      334.8540  \n",
      "2               9.04         125.20       97.6320  \n",
      "3              33.17         377.40      351.6020  \n",
      "4               8.73         114.62       97.7760  \n",
      "...              ...            ...           ...  \n",
      "359387          4.80          69.24       63.3600  \n",
      "359388          8.40         113.75      106.8480  \n",
      "359389         27.75         437.07      349.6500  \n",
      "359390          8.80         146.19      114.0480  \n",
      "359391         12.76         191.58      177.6192  \n",
      "\n",
      "[359392 rows x 7 columns]\n"
     ]
    }
   ],
   "source": [
    "df1 = pd.read_csv('DataSets/Cab_Data.csv')\n",
    "print(df1)"
   ]
  },
  {
   "cell_type": "code",
   "execution_count": 1009,
   "id": "db750758",
   "metadata": {},
   "outputs": [
    {
     "name": "stdout",
     "output_type": "stream",
     "text": [
      "       Customer ID  Gender  Age  Income (USD/Month)\n",
      "0            29290    Male   28               10813\n",
      "1            27703    Male   27                9237\n",
      "2            28712    Male   53               11242\n",
      "3            28020    Male   23               23327\n",
      "4            27182    Male   33                8536\n",
      "...            ...     ...  ...                 ...\n",
      "49166        12490    Male   33               18713\n",
      "49167        14971    Male   30               15346\n",
      "49168        41414    Male   38                3960\n",
      "49169        41677    Male   23               19454\n",
      "49170        39761  Female   32               10128\n",
      "\n",
      "[49171 rows x 4 columns]\n"
     ]
    }
   ],
   "source": [
    "df2 = pd.read_csv('DataSets/Customer_ID.csv')\n",
    "print(df2)"
   ]
  },
  {
   "cell_type": "code",
   "execution_count": 1010,
   "id": "d7d26ab4",
   "metadata": {},
   "outputs": [
    {
     "name": "stdout",
     "output_type": "stream",
     "text": [
      "        Transaction ID  Customer ID Payment_Mode\n",
      "0             10000011        29290         Card\n",
      "1             10000012        27703         Card\n",
      "2             10000013        28712         Cash\n",
      "3             10000014        28020         Cash\n",
      "4             10000015        27182         Card\n",
      "...                ...          ...          ...\n",
      "440093        10440104        53286         Cash\n",
      "440094        10440105        52265         Cash\n",
      "440095        10440106        52175         Card\n",
      "440096        10440107        52917         Card\n",
      "440097        10440108        51587         Card\n",
      "\n",
      "[440098 rows x 3 columns]\n"
     ]
    }
   ],
   "source": [
    "df3 = pd.read_csv('DataSets/Transaction_ID.csv')\n",
    "print(df3)"
   ]
  },
  {
   "cell_type": "code",
   "execution_count": 1011,
   "id": "c0543d41",
   "metadata": {},
   "outputs": [
    {
     "name": "stdout",
     "output_type": "stream",
     "text": [
      "                City   Population      Users\n",
      "0        NEW YORK NY   8,405,837    302,149 \n",
      "1         CHICAGO IL   1,955,130    164,468 \n",
      "2     LOS ANGELES CA   1,595,037    144,132 \n",
      "3           MIAMI FL   1,339,155     17,675 \n",
      "4     SILICON VALLEY   1,177,609     27,247 \n",
      "5      ORANGE COUNTY   1,030,185     12,994 \n",
      "6       SAN DIEGO CA     959,307     69,995 \n",
      "7         PHOENIX AZ     943,999      6,133 \n",
      "8          DALLAS TX     942,908     22,157 \n",
      "9         ATLANTA GA     814,885     24,701 \n",
      "10         DENVER CO     754,233     12,421 \n",
      "11         AUSTIN TX     698,371     14,978 \n",
      "12        SEATTLE WA     671,238     25,063 \n",
      "13         TUCSON AZ     631,442      5,712 \n",
      "14  SAN FRANCISCO CA     629,591    213,609 \n",
      "15     SACRAMENTO CA     545,776      7,044 \n",
      "16     PITTSBURGH PA     542,085      3,643 \n",
      "17     WASHINGTON DC     418,859    127,001 \n",
      "18      NASHVILLE TN     327,225      9,270 \n",
      "19         BOSTON MA     248,968     80,021 \n"
     ]
    }
   ],
   "source": [
    "df4 = pd.read_csv('DataSets/City.csv')\n",
    "print(df4)"
   ]
  },
  {
   "cell_type": "code",
   "execution_count": 1012,
   "id": "7fc4bb07",
   "metadata": {},
   "outputs": [
    {
     "name": "stdout",
     "output_type": "stream",
     "text": [
      "        Transaction ID  Customer ID Payment_Mode  Date of Travel     Company  \\\n",
      "0             10000011        29290         Card           42377    Pink Cab   \n",
      "1             10000012        27703         Card           42375    Pink Cab   \n",
      "2             10000013        28712         Cash           42371    Pink Cab   \n",
      "3             10000014        28020         Cash           42376    Pink Cab   \n",
      "4             10000015        27182         Card           42372    Pink Cab   \n",
      "...                ...          ...          ...             ...         ...   \n",
      "359387        10440101        52392         Cash           43108  Yellow Cab   \n",
      "359388        10440104        53286         Cash           43104  Yellow Cab   \n",
      "359389        10440105        52265         Cash           43105  Yellow Cab   \n",
      "359390        10440106        52175         Card           43105  Yellow Cab   \n",
      "359391        10440107        52917         Card           43102  Yellow Cab   \n",
      "\n",
      "                 City  KM Travelled  Price Charged  Cost of Trip  \n",
      "0          ATLANTA GA         30.45         370.95      313.6350  \n",
      "1          ATLANTA GA         28.62         358.52      334.8540  \n",
      "2          ATLANTA GA          9.04         125.20       97.6320  \n",
      "3          ATLANTA GA         33.17         377.40      351.6020  \n",
      "4          ATLANTA GA          8.73         114.62       97.7760  \n",
      "...               ...           ...            ...           ...  \n",
      "359387  WASHINGTON DC          4.80          69.24       63.3600  \n",
      "359388  WASHINGTON DC          8.40         113.75      106.8480  \n",
      "359389  WASHINGTON DC         27.75         437.07      349.6500  \n",
      "359390  WASHINGTON DC          8.80         146.19      114.0480  \n",
      "359391  WASHINGTON DC         12.76         191.58      177.6192  \n",
      "\n",
      "[359392 rows x 9 columns]\n"
     ]
    }
   ],
   "source": [
    "df5 = df3.merge(df1, on = 'Transaction ID')\n",
    "print(df5)"
   ]
  },
  {
   "cell_type": "code",
   "execution_count": 1013,
   "id": "cb4ba31b",
   "metadata": {},
   "outputs": [
    {
     "name": "stdout",
     "output_type": "stream",
     "text": [
      "        Customer ID  Gender  Age  Income (USD/Month)  Transaction ID  \\\n",
      "0             29290    Male   28               10813        10000011   \n",
      "1             29290    Male   28               10813        10351127   \n",
      "2             29290    Male   28               10813        10412921   \n",
      "3             27703    Male   27                9237        10000012   \n",
      "4             27703    Male   27                9237        10320494   \n",
      "...             ...     ...  ...                 ...             ...   \n",
      "359387        38520  Female   42               19417        10439790   \n",
      "359388        12490    Male   33               18713        10439799   \n",
      "359389        41414    Male   38                3960        10439838   \n",
      "359390        41677    Male   23               19454        10439840   \n",
      "359391        39761  Female   32               10128        10439846   \n",
      "\n",
      "       Payment_Mode  Date of Travel     Company            City  KM Travelled  \\\n",
      "0              Card           42377    Pink Cab      ATLANTA GA         30.45   \n",
      "1              Cash           43302  Yellow Cab      ATLANTA GA         26.19   \n",
      "2              Card           43427  Yellow Cab      ATLANTA GA         42.55   \n",
      "3              Card           42375    Pink Cab      ATLANTA GA         28.62   \n",
      "4              Card           43211  Yellow Cab      ATLANTA GA         36.38   \n",
      "...             ...             ...         ...             ...           ...   \n",
      "359387         Card           43107  Yellow Cab      SEATTLE WA         16.66   \n",
      "359388         Cash           43103  Yellow Cab  SILICON VALLEY         13.72   \n",
      "359389         Card           43104  Yellow Cab       TUCSON AZ         19.00   \n",
      "359390         Cash           43106  Yellow Cab       TUCSON AZ          5.60   \n",
      "359391         Card           43104  Yellow Cab       TUCSON AZ         13.30   \n",
      "\n",
      "        Price Charged  Cost of Trip  \n",
      "0              370.95      313.6350  \n",
      "1              598.70      317.4228  \n",
      "2              792.05      597.4020  \n",
      "3              358.52      334.8540  \n",
      "4              721.10      467.1192  \n",
      "...               ...           ...  \n",
      "359387         261.18      213.9144  \n",
      "359388         277.97      172.8720  \n",
      "359389         303.77      232.5600  \n",
      "359390          92.42       70.5600  \n",
      "359391         244.65      180.3480  \n",
      "\n",
      "[359392 rows x 12 columns]\n"
     ]
    }
   ],
   "source": [
    "df6 = df2.merge(df5, on = 'Customer ID')\n",
    "print(df6)"
   ]
  },
  {
   "cell_type": "code",
   "execution_count": 1014,
   "id": "83cf2ce8",
   "metadata": {},
   "outputs": [
    {
     "name": "stdout",
     "output_type": "stream",
     "text": [
      "        Customer ID  Gender  Age  Income (USD/Month)  Transaction ID  \\\n",
      "0             29290    Male   28               10813        10000011   \n",
      "1             29290    Male   28               10813        10351127   \n",
      "2             29290    Male   28               10813        10412921   \n",
      "3             27703    Male   27                9237        10000012   \n",
      "4             27703    Male   27                9237        10320494   \n",
      "...             ...     ...  ...                 ...             ...   \n",
      "359387        51406  Female   29                6829        10307228   \n",
      "359388        51406  Female   29                6829        10319775   \n",
      "359389        51406  Female   29                6829        10347676   \n",
      "359390        51406  Female   29                6829        10358624   \n",
      "359391        51406  Female   29                6829        10370709   \n",
      "\n",
      "       Payment_Mode  Date of Travel     Company           City  KM Travelled  \\\n",
      "0              Card           42377    Pink Cab     ATLANTA GA         30.45   \n",
      "1              Cash           43302  Yellow Cab     ATLANTA GA         26.19   \n",
      "2              Card           43427  Yellow Cab     ATLANTA GA         42.55   \n",
      "3              Card           42375    Pink Cab     ATLANTA GA         28.62   \n",
      "4              Card           43211  Yellow Cab     ATLANTA GA         36.38   \n",
      "...             ...             ...         ...            ...           ...   \n",
      "359387         Cash           43162  Yellow Cab  WASHINGTON DC         38.40   \n",
      "359388         Cash           43203  Yellow Cab  WASHINGTON DC          3.57   \n",
      "359389         Card           43287  Yellow Cab  WASHINGTON DC         23.46   \n",
      "359390         Cash           43314  Yellow Cab  WASHINGTON DC         27.60   \n",
      "359391         Card           43342  Yellow Cab  WASHINGTON DC         34.24   \n",
      "\n",
      "        Price Charged  Cost of Trip Population      Users  \n",
      "0              370.95      313.6350   814,885     24,701   \n",
      "1              598.70      317.4228   814,885     24,701   \n",
      "2              792.05      597.4020   814,885     24,701   \n",
      "3              358.52      334.8540   814,885     24,701   \n",
      "4              721.10      467.1192   814,885     24,701   \n",
      "...               ...           ...        ...        ...  \n",
      "359387         668.93      525.3120   418,859    127,001   \n",
      "359388          67.60       44.5536   418,859    127,001   \n",
      "359389         331.97      337.8240   418,859    127,001   \n",
      "359390         358.23      364.3200   418,859    127,001   \n",
      "359391         453.11      427.3152   418,859    127,001   \n",
      "\n",
      "[359392 rows x 14 columns]\n"
     ]
    }
   ],
   "source": [
    "# complete DataFrame\n",
    "df = df6.merge(df4, on = 'City')\n",
    "print(df)"
   ]
  },
  {
   "cell_type": "code",
   "execution_count": 1015,
   "id": "c72e180a",
   "metadata": {},
   "outputs": [
    {
     "name": "stdout",
     "output_type": "stream",
     "text": [
      "['Customer ID', 'Gender', 'Age', 'Income (USD/Month)', 'Transaction ID', 'Payment_Mode', 'Date of Travel', 'Company', 'City', 'KM Travelled', 'Price Charged', 'Cost of Trip', 'Population', 'Users']\n",
      "        Customer ID  Gender  Age  Income (USD/Month)  Transaction ID  \\\n",
      "0             29290    Male   28               10813        10000011   \n",
      "1             29290    Male   28               10813        10351127   \n",
      "2             29290    Male   28               10813        10412921   \n",
      "3             27703    Male   27                9237        10000012   \n",
      "4             27703    Male   27                9237        10320494   \n",
      "...             ...     ...  ...                 ...             ...   \n",
      "359387        51406  Female   29                6829        10307228   \n",
      "359388        51406  Female   29                6829        10319775   \n",
      "359389        51406  Female   29                6829        10347676   \n",
      "359390        51406  Female   29                6829        10358624   \n",
      "359391        51406  Female   29                6829        10370709   \n",
      "\n",
      "       Payment_Mode  Date of Travel     Company           City Population  \\\n",
      "0              Card           42377    Pink Cab     ATLANTA GA   814,885    \n",
      "1              Cash           43302  Yellow Cab     ATLANTA GA   814,885    \n",
      "2              Card           43427  Yellow Cab     ATLANTA GA   814,885    \n",
      "3              Card           42375    Pink Cab     ATLANTA GA   814,885    \n",
      "4              Card           43211  Yellow Cab     ATLANTA GA   814,885    \n",
      "...             ...             ...         ...            ...        ...   \n",
      "359387         Cash           43162  Yellow Cab  WASHINGTON DC   418,859    \n",
      "359388         Cash           43203  Yellow Cab  WASHINGTON DC   418,859    \n",
      "359389         Card           43287  Yellow Cab  WASHINGTON DC   418,859    \n",
      "359390         Cash           43314  Yellow Cab  WASHINGTON DC   418,859    \n",
      "359391         Card           43342  Yellow Cab  WASHINGTON DC   418,859    \n",
      "\n",
      "            Users  KM Travelled  Price Charged  Cost of Trip  \n",
      "0         24,701          30.45         370.95      313.6350  \n",
      "1         24,701          26.19         598.70      317.4228  \n",
      "2         24,701          42.55         792.05      597.4020  \n",
      "3         24,701          28.62         358.52      334.8540  \n",
      "4         24,701          36.38         721.10      467.1192  \n",
      "...           ...           ...            ...           ...  \n",
      "359387   127,001          38.40         668.93      525.3120  \n",
      "359388   127,001           3.57          67.60       44.5536  \n",
      "359389   127,001          23.46         331.97      337.8240  \n",
      "359390   127,001          27.60         358.23      364.3200  \n",
      "359391   127,001          34.24         453.11      427.3152  \n",
      "\n",
      "[359392 rows x 14 columns]\n"
     ]
    }
   ],
   "source": [
    "cols = df.columns.tolist()\n",
    "print(cols)\n",
    "cols = cols[:9] + cols[12:] + cols[9:12]\n",
    "df = df[cols]\n",
    "print(df)"
   ]
  },
  {
   "cell_type": "code",
   "execution_count": 1016,
   "id": "fb6b82b5",
   "metadata": {},
   "outputs": [
    {
     "name": "stdout",
     "output_type": "stream",
     "text": [
      "        Customer ID  Gender  Age  Income (USD/Month)  Transaction ID  \\\n",
      "0             29290    Male   28               10813        10000011   \n",
      "1             29290    Male   28               10813        10351127   \n",
      "2             29290    Male   28               10813        10412921   \n",
      "3             27703    Male   27                9237        10000012   \n",
      "4             27703    Male   27                9237        10320494   \n",
      "...             ...     ...  ...                 ...             ...   \n",
      "359387        51406  Female   29                6829        10307228   \n",
      "359388        51406  Female   29                6829        10319775   \n",
      "359389        51406  Female   29                6829        10347676   \n",
      "359390        51406  Female   29                6829        10358624   \n",
      "359391        51406  Female   29                6829        10370709   \n",
      "\n",
      "       Payment_Mode Date of Travel     Company           City Population  \\\n",
      "0              Card     2016-01-08    Pink Cab     ATLANTA GA   814,885    \n",
      "1              Cash     2018-07-21  Yellow Cab     ATLANTA GA   814,885    \n",
      "2              Card     2018-11-23  Yellow Cab     ATLANTA GA   814,885    \n",
      "3              Card     2016-01-06    Pink Cab     ATLANTA GA   814,885    \n",
      "4              Card     2018-04-21  Yellow Cab     ATLANTA GA   814,885    \n",
      "...             ...            ...         ...            ...        ...   \n",
      "359387         Cash     2018-03-03  Yellow Cab  WASHINGTON DC   418,859    \n",
      "359388         Cash     2018-04-13  Yellow Cab  WASHINGTON DC   418,859    \n",
      "359389         Card     2018-07-06  Yellow Cab  WASHINGTON DC   418,859    \n",
      "359390         Cash     2018-08-02  Yellow Cab  WASHINGTON DC   418,859    \n",
      "359391         Card     2018-08-30  Yellow Cab  WASHINGTON DC   418,859    \n",
      "\n",
      "            Users  KM Travelled  Price Charged  Cost of Trip  \n",
      "0         24,701          30.45         370.95      313.6350  \n",
      "1         24,701          26.19         598.70      317.4228  \n",
      "2         24,701          42.55         792.05      597.4020  \n",
      "3         24,701          28.62         358.52      334.8540  \n",
      "4         24,701          36.38         721.10      467.1192  \n",
      "...           ...           ...            ...           ...  \n",
      "359387   127,001          38.40         668.93      525.3120  \n",
      "359388   127,001           3.57          67.60       44.5536  \n",
      "359389   127,001          23.46         331.97      337.8240  \n",
      "359390   127,001          27.60         358.23      364.3200  \n",
      "359391   127,001          34.24         453.11      427.3152  \n",
      "\n",
      "[359392 rows x 14 columns]\n"
     ]
    }
   ],
   "source": [
    "# convert date format from number to datetime type\n",
    "df['Date of Travel'] = pd.to_datetime(df['Date of Travel'], unit = 'd', origin = '1899-12-30')\n",
    "print(df)"
   ]
  },
  {
   "cell_type": "code",
   "execution_count": 1017,
   "id": "d1e333d8",
   "metadata": {},
   "outputs": [
    {
     "name": "stdout",
     "output_type": "stream",
     "text": [
      "2016-01-02 00:00:00\n"
     ]
    }
   ],
   "source": [
    "print(df['Date of Travel'].min())"
   ]
  },
  {
   "cell_type": "code",
   "execution_count": 1018,
   "id": "cfd3b288",
   "metadata": {},
   "outputs": [
    {
     "name": "stdout",
     "output_type": "stream",
     "text": [
      "2018-12-31 00:00:00\n"
     ]
    }
   ],
   "source": [
    "print(df['Date of Travel'].max())"
   ]
  },
  {
   "cell_type": "code",
   "execution_count": 1019,
   "id": "576166b0",
   "metadata": {},
   "outputs": [],
   "source": [
    "# convert monthly income to annual income\n",
    "df['Income (USD/Month)'] = df['Income (USD/Month)'] * 12\n",
    "df = df.rename(columns = {'Income (USD/Month)':'annual_income_usd'})"
   ]
  },
  {
   "cell_type": "code",
   "execution_count": 1020,
   "id": "4751b09b",
   "metadata": {},
   "outputs": [],
   "source": [
    "# convert km to mi\n",
    "df['KM Travelled'] = df['KM Travelled'] * 0.6213711922\n",
    "df = df.rename(columns = {'KM Travelled':'mi_traveled'})"
   ]
  },
  {
   "cell_type": "code",
   "execution_count": 1021,
   "id": "668ca756",
   "metadata": {},
   "outputs": [
    {
     "name": "stdout",
     "output_type": "stream",
     "text": [
      "        customer_id  gender  age  annual_income_usd  transaction_id  \\\n",
      "0             29290    Male   28             129756        10000011   \n",
      "1             29290    Male   28             129756        10351127   \n",
      "2             29290    Male   28             129756        10412921   \n",
      "3             27703    Male   27             110844        10000012   \n",
      "4             27703    Male   27             110844        10320494   \n",
      "...             ...     ...  ...                ...             ...   \n",
      "359387        51406  Female   29              81948        10307228   \n",
      "359388        51406  Female   29              81948        10319775   \n",
      "359389        51406  Female   29              81948        10347676   \n",
      "359390        51406  Female   29              81948        10358624   \n",
      "359391        51406  Female   29              81948        10370709   \n",
      "\n",
      "       payment_mode       date     company           city population  \\\n",
      "0              Card 2016-01-08    Pink Cab     ATLANTA GA   814,885    \n",
      "1              Cash 2018-07-21  Yellow Cab     ATLANTA GA   814,885    \n",
      "2              Card 2018-11-23  Yellow Cab     ATLANTA GA   814,885    \n",
      "3              Card 2016-01-06    Pink Cab     ATLANTA GA   814,885    \n",
      "4              Card 2018-04-21  Yellow Cab     ATLANTA GA   814,885    \n",
      "...             ...        ...         ...            ...        ...   \n",
      "359387         Cash 2018-03-03  Yellow Cab  WASHINGTON DC   418,859    \n",
      "359388         Cash 2018-04-13  Yellow Cab  WASHINGTON DC   418,859    \n",
      "359389         Card 2018-07-06  Yellow Cab  WASHINGTON DC   418,859    \n",
      "359390         Cash 2018-08-02  Yellow Cab  WASHINGTON DC   418,859    \n",
      "359391         Card 2018-08-30  Yellow Cab  WASHINGTON DC   418,859    \n",
      "\n",
      "            users  mi_traveled  price_charged  trip_cost  \n",
      "0         24,701     18.920753         370.95   313.6350  \n",
      "1         24,701     16.273712         598.70   317.4228  \n",
      "2         24,701     26.439344         792.05   597.4020  \n",
      "3         24,701     17.783644         358.52   334.8540  \n",
      "4         24,701     22.605484         721.10   467.1192  \n",
      "...           ...          ...            ...        ...  \n",
      "359387   127,001     23.860654         668.93   525.3120  \n",
      "359388   127,001      2.218295          67.60    44.5536  \n",
      "359389   127,001     14.577368         331.97   337.8240  \n",
      "359390   127,001     17.149845         358.23   364.3200  \n",
      "359391   127,001     21.275750         453.11   427.3152  \n",
      "\n",
      "[359392 rows x 14 columns]\n"
     ]
    }
   ],
   "source": [
    "# rename other columns\n",
    "df = df.rename(columns = {'Customer ID':'customer_id',\n",
    "                          'Gender':'gender',\n",
    "                          'Age':'age',\n",
    "                          'Transaction ID':'transaction_id',\n",
    "                          'Payment_Mode':'payment_mode',\n",
    "                          'Date of Travel':'date',\n",
    "                          'Company':'company',\n",
    "                          'City':'city',\n",
    "                          'Population':'population',\n",
    "                          'Users':'users',\n",
    "                          'Price Charged':'price_charged',\n",
    "                          'Cost of Trip':'trip_cost'\n",
    "                          }\n",
    "               )\n",
    "print(df)"
   ]
  },
  {
   "cell_type": "code",
   "execution_count": 1022,
   "id": "1d53440c",
   "metadata": {},
   "outputs": [
    {
     "data": {
      "text/html": [
       "<div>\n",
       "<style scoped>\n",
       "    .dataframe tbody tr th:only-of-type {\n",
       "        vertical-align: middle;\n",
       "    }\n",
       "\n",
       "    .dataframe tbody tr th {\n",
       "        vertical-align: top;\n",
       "    }\n",
       "\n",
       "    .dataframe thead th {\n",
       "        text-align: right;\n",
       "    }\n",
       "</style>\n",
       "<table border=\"1\" class=\"dataframe\">\n",
       "  <thead>\n",
       "    <tr style=\"text-align: right;\">\n",
       "      <th></th>\n",
       "      <th>customer_id</th>\n",
       "      <th>gender</th>\n",
       "      <th>age</th>\n",
       "      <th>annual_income_usd</th>\n",
       "      <th>transaction_id</th>\n",
       "      <th>payment_mode</th>\n",
       "      <th>date</th>\n",
       "      <th>company</th>\n",
       "      <th>city</th>\n",
       "      <th>population</th>\n",
       "      <th>users</th>\n",
       "      <th>mi_traveled</th>\n",
       "      <th>price_charged</th>\n",
       "      <th>trip_cost</th>\n",
       "    </tr>\n",
       "  </thead>\n",
       "  <tbody>\n",
       "    <tr>\n",
       "      <th>count</th>\n",
       "      <td>359392.000000</td>\n",
       "      <td>359392</td>\n",
       "      <td>359392.000000</td>\n",
       "      <td>359392.000000</td>\n",
       "      <td>3.593920e+05</td>\n",
       "      <td>359392</td>\n",
       "      <td>359392</td>\n",
       "      <td>359392</td>\n",
       "      <td>359392</td>\n",
       "      <td>359392</td>\n",
       "      <td>359392</td>\n",
       "      <td>359392.000000</td>\n",
       "      <td>359392.000000</td>\n",
       "      <td>359392.000000</td>\n",
       "    </tr>\n",
       "    <tr>\n",
       "      <th>unique</th>\n",
       "      <td>NaN</td>\n",
       "      <td>2</td>\n",
       "      <td>NaN</td>\n",
       "      <td>NaN</td>\n",
       "      <td>NaN</td>\n",
       "      <td>2</td>\n",
       "      <td>NaN</td>\n",
       "      <td>2</td>\n",
       "      <td>19</td>\n",
       "      <td>19</td>\n",
       "      <td>19</td>\n",
       "      <td>NaN</td>\n",
       "      <td>NaN</td>\n",
       "      <td>NaN</td>\n",
       "    </tr>\n",
       "    <tr>\n",
       "      <th>top</th>\n",
       "      <td>NaN</td>\n",
       "      <td>Male</td>\n",
       "      <td>NaN</td>\n",
       "      <td>NaN</td>\n",
       "      <td>NaN</td>\n",
       "      <td>Card</td>\n",
       "      <td>NaN</td>\n",
       "      <td>Yellow Cab</td>\n",
       "      <td>NEW YORK NY</td>\n",
       "      <td>8,405,837</td>\n",
       "      <td>302,149</td>\n",
       "      <td>NaN</td>\n",
       "      <td>NaN</td>\n",
       "      <td>NaN</td>\n",
       "    </tr>\n",
       "    <tr>\n",
       "      <th>freq</th>\n",
       "      <td>NaN</td>\n",
       "      <td>205912</td>\n",
       "      <td>NaN</td>\n",
       "      <td>NaN</td>\n",
       "      <td>NaN</td>\n",
       "      <td>215504</td>\n",
       "      <td>NaN</td>\n",
       "      <td>274681</td>\n",
       "      <td>99885</td>\n",
       "      <td>99885</td>\n",
       "      <td>99885</td>\n",
       "      <td>NaN</td>\n",
       "      <td>NaN</td>\n",
       "      <td>NaN</td>\n",
       "    </tr>\n",
       "    <tr>\n",
       "      <th>mean</th>\n",
       "      <td>19191.652115</td>\n",
       "      <td>NaN</td>\n",
       "      <td>35.336705</td>\n",
       "      <td>180585.875245</td>\n",
       "      <td>1.022076e+07</td>\n",
       "      <td>NaN</td>\n",
       "      <td>2017-08-17 01:37:55.042293504</td>\n",
       "      <td>NaN</td>\n",
       "      <td>NaN</td>\n",
       "      <td>NaN</td>\n",
       "      <td>NaN</td>\n",
       "      <td>14.022642</td>\n",
       "      <td>423.443311</td>\n",
       "      <td>286.190113</td>\n",
       "    </tr>\n",
       "    <tr>\n",
       "      <th>min</th>\n",
       "      <td>1.000000</td>\n",
       "      <td>NaN</td>\n",
       "      <td>18.000000</td>\n",
       "      <td>24000.000000</td>\n",
       "      <td>1.000001e+07</td>\n",
       "      <td>NaN</td>\n",
       "      <td>2016-01-02 00:00:00</td>\n",
       "      <td>NaN</td>\n",
       "      <td>NaN</td>\n",
       "      <td>NaN</td>\n",
       "      <td>NaN</td>\n",
       "      <td>1.180605</td>\n",
       "      <td>15.600000</td>\n",
       "      <td>19.000000</td>\n",
       "    </tr>\n",
       "    <tr>\n",
       "      <th>25%</th>\n",
       "      <td>2705.000000</td>\n",
       "      <td>NaN</td>\n",
       "      <td>25.000000</td>\n",
       "      <td>101088.000000</td>\n",
       "      <td>1.011081e+07</td>\n",
       "      <td>NaN</td>\n",
       "      <td>2016-11-23 00:00:00</td>\n",
       "      <td>NaN</td>\n",
       "      <td>NaN</td>\n",
       "      <td>NaN</td>\n",
       "      <td>NaN</td>\n",
       "      <td>7.456454</td>\n",
       "      <td>206.437500</td>\n",
       "      <td>151.200000</td>\n",
       "    </tr>\n",
       "    <tr>\n",
       "      <th>50%</th>\n",
       "      <td>7459.000000</td>\n",
       "      <td>NaN</td>\n",
       "      <td>33.000000</td>\n",
       "      <td>176220.000000</td>\n",
       "      <td>1.022104e+07</td>\n",
       "      <td>NaN</td>\n",
       "      <td>2017-09-10 00:00:00</td>\n",
       "      <td>NaN</td>\n",
       "      <td>NaN</td>\n",
       "      <td>NaN</td>\n",
       "      <td>NaN</td>\n",
       "      <td>13.943570</td>\n",
       "      <td>386.360000</td>\n",
       "      <td>282.480000</td>\n",
       "    </tr>\n",
       "    <tr>\n",
       "      <th>75%</th>\n",
       "      <td>36078.000000</td>\n",
       "      <td>NaN</td>\n",
       "      <td>42.000000</td>\n",
       "      <td>252420.000000</td>\n",
       "      <td>1.033094e+07</td>\n",
       "      <td>NaN</td>\n",
       "      <td>2018-05-12 00:00:00</td>\n",
       "      <td>NaN</td>\n",
       "      <td>NaN</td>\n",
       "      <td>NaN</td>\n",
       "      <td>NaN</td>\n",
       "      <td>20.480394</td>\n",
       "      <td>583.660000</td>\n",
       "      <td>413.683200</td>\n",
       "    </tr>\n",
       "    <tr>\n",
       "      <th>max</th>\n",
       "      <td>60000.000000</td>\n",
       "      <td>NaN</td>\n",
       "      <td>65.000000</td>\n",
       "      <td>420000.000000</td>\n",
       "      <td>1.044011e+07</td>\n",
       "      <td>NaN</td>\n",
       "      <td>2018-12-31 00:00:00</td>\n",
       "      <td>NaN</td>\n",
       "      <td>NaN</td>\n",
       "      <td>NaN</td>\n",
       "      <td>NaN</td>\n",
       "      <td>29.825817</td>\n",
       "      <td>2048.030000</td>\n",
       "      <td>691.200000</td>\n",
       "    </tr>\n",
       "    <tr>\n",
       "      <th>std</th>\n",
       "      <td>21012.412463</td>\n",
       "      <td>NaN</td>\n",
       "      <td>12.594234</td>\n",
       "      <td>95632.913783</td>\n",
       "      <td>1.268058e+05</td>\n",
       "      <td>NaN</td>\n",
       "      <td>NaN</td>\n",
       "      <td>NaN</td>\n",
       "      <td>NaN</td>\n",
       "      <td>NaN</td>\n",
       "      <td>NaN</td>\n",
       "      <td>7.601561</td>\n",
       "      <td>274.378911</td>\n",
       "      <td>157.993661</td>\n",
       "    </tr>\n",
       "  </tbody>\n",
       "</table>\n",
       "</div>"
      ],
      "text/plain": [
       "          customer_id  gender            age  annual_income_usd  \\\n",
       "count   359392.000000  359392  359392.000000      359392.000000   \n",
       "unique            NaN       2            NaN                NaN   \n",
       "top               NaN    Male            NaN                NaN   \n",
       "freq              NaN  205912            NaN                NaN   \n",
       "mean     19191.652115     NaN      35.336705      180585.875245   \n",
       "min          1.000000     NaN      18.000000       24000.000000   \n",
       "25%       2705.000000     NaN      25.000000      101088.000000   \n",
       "50%       7459.000000     NaN      33.000000      176220.000000   \n",
       "75%      36078.000000     NaN      42.000000      252420.000000   \n",
       "max      60000.000000     NaN      65.000000      420000.000000   \n",
       "std      21012.412463     NaN      12.594234       95632.913783   \n",
       "\n",
       "        transaction_id payment_mode                           date  \\\n",
       "count     3.593920e+05       359392                         359392   \n",
       "unique             NaN            2                            NaN   \n",
       "top                NaN         Card                            NaN   \n",
       "freq               NaN       215504                            NaN   \n",
       "mean      1.022076e+07          NaN  2017-08-17 01:37:55.042293504   \n",
       "min       1.000001e+07          NaN            2016-01-02 00:00:00   \n",
       "25%       1.011081e+07          NaN            2016-11-23 00:00:00   \n",
       "50%       1.022104e+07          NaN            2017-09-10 00:00:00   \n",
       "75%       1.033094e+07          NaN            2018-05-12 00:00:00   \n",
       "max       1.044011e+07          NaN            2018-12-31 00:00:00   \n",
       "std       1.268058e+05          NaN                            NaN   \n",
       "\n",
       "           company         city   population      users    mi_traveled  \\\n",
       "count       359392       359392       359392     359392  359392.000000   \n",
       "unique           2           19           19         19            NaN   \n",
       "top     Yellow Cab  NEW YORK NY   8,405,837    302,149             NaN   \n",
       "freq        274681        99885        99885      99885            NaN   \n",
       "mean           NaN          NaN          NaN        NaN      14.022642   \n",
       "min            NaN          NaN          NaN        NaN       1.180605   \n",
       "25%            NaN          NaN          NaN        NaN       7.456454   \n",
       "50%            NaN          NaN          NaN        NaN      13.943570   \n",
       "75%            NaN          NaN          NaN        NaN      20.480394   \n",
       "max            NaN          NaN          NaN        NaN      29.825817   \n",
       "std            NaN          NaN          NaN        NaN       7.601561   \n",
       "\n",
       "        price_charged      trip_cost  \n",
       "count   359392.000000  359392.000000  \n",
       "unique            NaN            NaN  \n",
       "top               NaN            NaN  \n",
       "freq              NaN            NaN  \n",
       "mean       423.443311     286.190113  \n",
       "min         15.600000      19.000000  \n",
       "25%        206.437500     151.200000  \n",
       "50%        386.360000     282.480000  \n",
       "75%        583.660000     413.683200  \n",
       "max       2048.030000     691.200000  \n",
       "std        274.378911     157.993661  "
      ]
     },
     "execution_count": 1022,
     "metadata": {},
     "output_type": "execute_result"
    }
   ],
   "source": [
    "# descriptive statistics for each feature column\n",
    "df.describe(include = 'all', datetime_is_numeric = True)"
   ]
  },
  {
   "cell_type": "markdown",
   "id": "5b1595f8",
   "metadata": {},
   "source": [
    "It appears that we don't have any missing values among our 359,392 observations of 14 features, which is quite impressive! Outliers seem present with respect to the `price_charged` variable as the 75th percentile is almost 600 while the maximum price charged is over 2,000. Let's examine the highest values of this variable to better understand whether or not this could be a mistake."
   ]
  },
  {
   "cell_type": "code",
   "execution_count": 1023,
   "id": "53fec597",
   "metadata": {},
   "outputs": [
    {
     "name": "stdout",
     "output_type": "stream",
     "text": [
      "(13582, 14)\n",
      "24.45406738649581\n",
      "29.8258172256\n"
     ]
    }
   ],
   "source": [
    "# find number of observations with price charged of at least $1,000\n",
    "print(df[df['price_charged'] > 1000].shape)\n",
    "\n",
    "# calculate mean distance traveled of these trips\n",
    "print(df[df['price_charged'] > 1000]['mi_traveled'].mean())\n",
    "\n",
    "# calculate max distance traveled of these trips\n",
    "print(df[df['price_charged'] > 1000]['mi_traveled'].max())"
   ]
  },
  {
   "cell_type": "markdown",
   "id": "736351b8",
   "metadata": {},
   "source": [
    "We have about 13,500 recorded cab rides with a price charged of over $1,000. This must mean that there is some external variable that caused these rides to be so expensive, like trip duration, since the mean travel distance of these trips is about 24 miles and the maximum travel distance is about 30 miles, not particularly high distances for such expensive fares. Let's now look at the very highest prices charged."
   ]
  },
  {
   "cell_type": "code",
   "execution_count": 1024,
   "id": "b04bc2f8",
   "metadata": {},
   "outputs": [
    {
     "name": "stdout",
     "output_type": "stream",
     "text": [
      "(3, 14)\n",
      "27.607522069446002\n",
      "29.08017179496\n"
     ]
    }
   ],
   "source": [
    "# find number of observations with price charged of at least $1,000\n",
    "print(df[df['price_charged'] > 2000].shape)\n",
    "\n",
    "# calculate mean distance traveled of these trips\n",
    "print(df[df['price_charged'] > 2000]['mi_traveled'].mean())\n",
    "\n",
    "# calculate max distance traveled of these trips\n",
    "print(df[df['price_charged'] > 2000]['mi_traveled'].max())"
   ]
  },
  {
   "cell_type": "markdown",
   "id": "0bda01e0",
   "metadata": {},
   "source": [
    "There 3 passengers that were charged at least 2,000 and no more than 2,500. These trips had an average distance of about 28 miles and maximum distance of about 29 miles. Having multiple similar extreme values shows that there is likely no mistake and rather there must be an external factor causing such high prices charged. We will hold onto these observations. Let's further analyze the relationships between variables in our DataFrame."
   ]
  },
  {
   "cell_type": "code",
   "execution_count": 1025,
   "id": "25468eeb",
   "metadata": {},
   "outputs": [
    {
     "data": {
      "text/html": [
       "<div>\n",
       "<style scoped>\n",
       "    .dataframe tbody tr th:only-of-type {\n",
       "        vertical-align: middle;\n",
       "    }\n",
       "\n",
       "    .dataframe tbody tr th {\n",
       "        vertical-align: top;\n",
       "    }\n",
       "\n",
       "    .dataframe thead th {\n",
       "        text-align: right;\n",
       "    }\n",
       "</style>\n",
       "<table border=\"1\" class=\"dataframe\">\n",
       "  <thead>\n",
       "    <tr style=\"text-align: right;\">\n",
       "      <th></th>\n",
       "      <th>customer_id</th>\n",
       "      <th>age</th>\n",
       "      <th>annual_income_usd</th>\n",
       "      <th>transaction_id</th>\n",
       "      <th>mi_traveled</th>\n",
       "      <th>price_charged</th>\n",
       "      <th>trip_cost</th>\n",
       "    </tr>\n",
       "  </thead>\n",
       "  <tbody>\n",
       "    <tr>\n",
       "      <th>customer_id</th>\n",
       "      <td>1.000000</td>\n",
       "      <td>-0.004735</td>\n",
       "      <td>-0.013608</td>\n",
       "      <td>-0.016912</td>\n",
       "      <td>0.000389</td>\n",
       "      <td>-0.177324</td>\n",
       "      <td>0.003077</td>\n",
       "    </tr>\n",
       "    <tr>\n",
       "      <th>age</th>\n",
       "      <td>-0.004735</td>\n",
       "      <td>1.000000</td>\n",
       "      <td>0.003907</td>\n",
       "      <td>-0.001267</td>\n",
       "      <td>-0.000369</td>\n",
       "      <td>-0.003084</td>\n",
       "      <td>-0.000189</td>\n",
       "    </tr>\n",
       "    <tr>\n",
       "      <th>annual_income_usd</th>\n",
       "      <td>-0.013608</td>\n",
       "      <td>0.003907</td>\n",
       "      <td>1.000000</td>\n",
       "      <td>-0.001570</td>\n",
       "      <td>-0.000544</td>\n",
       "      <td>0.003228</td>\n",
       "      <td>-0.000633</td>\n",
       "    </tr>\n",
       "    <tr>\n",
       "      <th>transaction_id</th>\n",
       "      <td>-0.016912</td>\n",
       "      <td>-0.001267</td>\n",
       "      <td>-0.001570</td>\n",
       "      <td>1.000000</td>\n",
       "      <td>-0.001429</td>\n",
       "      <td>-0.052902</td>\n",
       "      <td>-0.003462</td>\n",
       "    </tr>\n",
       "    <tr>\n",
       "      <th>mi_traveled</th>\n",
       "      <td>0.000389</td>\n",
       "      <td>-0.000369</td>\n",
       "      <td>-0.000544</td>\n",
       "      <td>-0.001429</td>\n",
       "      <td>1.000000</td>\n",
       "      <td>0.835753</td>\n",
       "      <td>0.981848</td>\n",
       "    </tr>\n",
       "    <tr>\n",
       "      <th>price_charged</th>\n",
       "      <td>-0.177324</td>\n",
       "      <td>-0.003084</td>\n",
       "      <td>0.003228</td>\n",
       "      <td>-0.052902</td>\n",
       "      <td>0.835753</td>\n",
       "      <td>1.000000</td>\n",
       "      <td>0.859812</td>\n",
       "    </tr>\n",
       "    <tr>\n",
       "      <th>trip_cost</th>\n",
       "      <td>0.003077</td>\n",
       "      <td>-0.000189</td>\n",
       "      <td>-0.000633</td>\n",
       "      <td>-0.003462</td>\n",
       "      <td>0.981848</td>\n",
       "      <td>0.859812</td>\n",
       "      <td>1.000000</td>\n",
       "    </tr>\n",
       "  </tbody>\n",
       "</table>\n",
       "</div>"
      ],
      "text/plain": [
       "                   customer_id       age  annual_income_usd  transaction_id  \\\n",
       "customer_id           1.000000 -0.004735          -0.013608       -0.016912   \n",
       "age                  -0.004735  1.000000           0.003907       -0.001267   \n",
       "annual_income_usd    -0.013608  0.003907           1.000000       -0.001570   \n",
       "transaction_id       -0.016912 -0.001267          -0.001570        1.000000   \n",
       "mi_traveled           0.000389 -0.000369          -0.000544       -0.001429   \n",
       "price_charged        -0.177324 -0.003084           0.003228       -0.052902   \n",
       "trip_cost             0.003077 -0.000189          -0.000633       -0.003462   \n",
       "\n",
       "                   mi_traveled  price_charged  trip_cost  \n",
       "customer_id           0.000389      -0.177324   0.003077  \n",
       "age                  -0.000369      -0.003084  -0.000189  \n",
       "annual_income_usd    -0.000544       0.003228  -0.000633  \n",
       "transaction_id       -0.001429      -0.052902  -0.003462  \n",
       "mi_traveled           1.000000       0.835753   0.981848  \n",
       "price_charged         0.835753       1.000000   0.859812  \n",
       "trip_cost             0.981848       0.859812   1.000000  "
      ]
     },
     "execution_count": 1025,
     "metadata": {},
     "output_type": "execute_result"
    }
   ],
   "source": [
    "# create correlation matrix\n",
    "df.corr()"
   ]
  },
  {
   "cell_type": "markdown",
   "id": "db8a9e55",
   "metadata": {},
   "source": [
    "Looking at the values in our correlation matrix we observe only a few strong and rather obvious correlations. `price_charged` and `mi_traveled` share a strong positive correlation (~ 0.84) which makes intuitive sense since the longer the trip, the higher the price of the trip. `trip_cost` and `mi_traveled` share a nearly perfect positive correlation (~ 0.98) which makes perfect sense since trip cost is presumably linearly increasing in trip distance. Lastly `trip_cost` and `price_charged` share a strong positive correlation (~ 0.86) since the higher the trip cost, the higher the price that must be charged to cover the cost. Let's look for duplicate values in our DataFrame."
   ]
  },
  {
   "cell_type": "code",
   "execution_count": 1038,
   "id": "449b53e2",
   "metadata": {},
   "outputs": [
    {
     "data": {
      "text/plain": [
       "0"
      ]
     },
     "execution_count": 1038,
     "metadata": {},
     "output_type": "execute_result"
    }
   ],
   "source": [
    "# find number of duplicate rows\n",
    "df.duplicated(subset = ['transaction_id']).sum()"
   ]
  },
  {
   "cell_type": "markdown",
   "id": "d72e987d",
   "metadata": {},
   "source": [
    "Looks like there are no duplicate values, nice! The first and most essential question we would like to answer is: \"which company appears more profitable on average and what are some attributes of their customers?\""
   ]
  },
  {
   "cell_type": "code",
   "execution_count": 1027,
   "id": "f7499caa",
   "metadata": {},
   "outputs": [
    {
     "name": "stdout",
     "output_type": "stream",
     "text": [
      "        customer_id  gender  age  annual_income_usd  transaction_id  \\\n",
      "0             29290    Male   28             129756        10000011   \n",
      "1             29290    Male   28             129756        10351127   \n",
      "2             29290    Male   28             129756        10412921   \n",
      "3             27703    Male   27             110844        10000012   \n",
      "4             27703    Male   27             110844        10320494   \n",
      "...             ...     ...  ...                ...             ...   \n",
      "359387        51406  Female   29              81948        10307228   \n",
      "359388        51406  Female   29              81948        10319775   \n",
      "359389        51406  Female   29              81948        10347676   \n",
      "359390        51406  Female   29              81948        10358624   \n",
      "359391        51406  Female   29              81948        10370709   \n",
      "\n",
      "       payment_mode       date     company           city population  \\\n",
      "0              Card 2016-01-08    Pink Cab     ATLANTA GA   814,885    \n",
      "1              Cash 2018-07-21  Yellow Cab     ATLANTA GA   814,885    \n",
      "2              Card 2018-11-23  Yellow Cab     ATLANTA GA   814,885    \n",
      "3              Card 2016-01-06    Pink Cab     ATLANTA GA   814,885    \n",
      "4              Card 2018-04-21  Yellow Cab     ATLANTA GA   814,885    \n",
      "...             ...        ...         ...            ...        ...   \n",
      "359387         Cash 2018-03-03  Yellow Cab  WASHINGTON DC   418,859    \n",
      "359388         Cash 2018-04-13  Yellow Cab  WASHINGTON DC   418,859    \n",
      "359389         Card 2018-07-06  Yellow Cab  WASHINGTON DC   418,859    \n",
      "359390         Cash 2018-08-02  Yellow Cab  WASHINGTON DC   418,859    \n",
      "359391         Card 2018-08-30  Yellow Cab  WASHINGTON DC   418,859    \n",
      "\n",
      "            users  mi_traveled  price_charged  trip_cost    profit  \n",
      "0         24,701     18.920753         370.95   313.6350   57.3150  \n",
      "1         24,701     16.273712         598.70   317.4228  281.2772  \n",
      "2         24,701     26.439344         792.05   597.4020  194.6480  \n",
      "3         24,701     17.783644         358.52   334.8540   23.6660  \n",
      "4         24,701     22.605484         721.10   467.1192  253.9808  \n",
      "...           ...          ...            ...        ...       ...  \n",
      "359387   127,001     23.860654         668.93   525.3120  143.6180  \n",
      "359388   127,001      2.218295          67.60    44.5536   23.0464  \n",
      "359389   127,001     14.577368         331.97   337.8240   -5.8540  \n",
      "359390   127,001     17.149845         358.23   364.3200   -6.0900  \n",
      "359391   127,001     21.275750         453.11   427.3152   25.7948  \n",
      "\n",
      "[359392 rows x 15 columns]\n",
      "Yellow Cab    274681\n",
      "Pink Cab       84711\n",
      "Name: company, dtype: int64\n"
     ]
    },
    {
     "data": {
      "text/html": [
       "<div>\n",
       "<style scoped>\n",
       "    .dataframe tbody tr th:only-of-type {\n",
       "        vertical-align: middle;\n",
       "    }\n",
       "\n",
       "    .dataframe tbody tr th {\n",
       "        vertical-align: top;\n",
       "    }\n",
       "\n",
       "    .dataframe thead th {\n",
       "        text-align: right;\n",
       "    }\n",
       "</style>\n",
       "<table border=\"1\" class=\"dataframe\">\n",
       "  <thead>\n",
       "    <tr style=\"text-align: right;\">\n",
       "      <th></th>\n",
       "      <th>customer_id</th>\n",
       "      <th>age</th>\n",
       "      <th>annual_income_usd</th>\n",
       "      <th>transaction_id</th>\n",
       "      <th>mi_traveled</th>\n",
       "      <th>price_charged</th>\n",
       "      <th>trip_cost</th>\n",
       "      <th>profit</th>\n",
       "    </tr>\n",
       "    <tr>\n",
       "      <th>company</th>\n",
       "      <th></th>\n",
       "      <th></th>\n",
       "      <th></th>\n",
       "      <th></th>\n",
       "      <th></th>\n",
       "      <th></th>\n",
       "      <th></th>\n",
       "      <th></th>\n",
       "    </tr>\n",
       "  </thead>\n",
       "  <tbody>\n",
       "    <tr>\n",
       "      <th>Pink Cab</th>\n",
       "      <td>18422.581577</td>\n",
       "      <td>35.322414</td>\n",
       "      <td>180708.565641</td>\n",
       "      <td>1.022394e+07</td>\n",
       "      <td>14.018082</td>\n",
       "      <td>310.800856</td>\n",
       "      <td>248.148682</td>\n",
       "      <td>62.652174</td>\n",
       "    </tr>\n",
       "    <tr>\n",
       "      <th>Yellow Cab</th>\n",
       "      <td>19428.831732</td>\n",
       "      <td>35.341112</td>\n",
       "      <td>180548.037804</td>\n",
       "      <td>1.021978e+07</td>\n",
       "      <td>14.024048</td>\n",
       "      <td>458.181990</td>\n",
       "      <td>297.922004</td>\n",
       "      <td>160.259986</td>\n",
       "    </tr>\n",
       "  </tbody>\n",
       "</table>\n",
       "</div>"
      ],
      "text/plain": [
       "             customer_id        age  annual_income_usd  transaction_id  \\\n",
       "company                                                                  \n",
       "Pink Cab    18422.581577  35.322414      180708.565641    1.022394e+07   \n",
       "Yellow Cab  19428.831732  35.341112      180548.037804    1.021978e+07   \n",
       "\n",
       "            mi_traveled  price_charged   trip_cost      profit  \n",
       "company                                                         \n",
       "Pink Cab      14.018082     310.800856  248.148682   62.652174  \n",
       "Yellow Cab    14.024048     458.181990  297.922004  160.259986  "
      ]
     },
     "execution_count": 1027,
     "metadata": {},
     "output_type": "execute_result"
    }
   ],
   "source": [
    "# create profit variable\n",
    "df['profit'] = df['price_charged'] - df['trip_cost']\n",
    "print(df)\n",
    "\n",
    "# calculate each company's total numebr of rides\n",
    "print(df['company'].value_counts())\n",
    "\n",
    "# calculate averages per cab company\n",
    "df.groupby(['company']).mean()"
   ]
  },
  {
   "cell_type": "markdown",
   "id": "610ad161",
   "metadata": {},
   "source": [
    "It appears that Yellow Cab is more profitable than Pink Cab by quite some margin. Pink had about 85,000 rides from 2016-2018 while Yellow had about 275,000, over 200% more rides. Both companies had riders with similar average age (~ 35), income (~ 181,000 USD) and distance traveled (~ 14 mi). However, Pink's average profit margin per ride is about 63 USD while Yellow's is about 160, or 150% more. This is despite Yellow having a 20% higher average trip which Yellow accounts for by charging its prices almost 50% higher than Pink Cab. The next question we would like to answer is: \"what is the annual profit trend of each company?\" "
   ]
  },
  {
   "cell_type": "code",
   "execution_count": 1028,
   "id": "521056e5",
   "metadata": {},
   "outputs": [
    {
     "name": "stdout",
     "output_type": "stream",
     "text": [
      "                         total_profit\n",
      "year quarter company                 \n",
      "2016 1       Pink Cab    2.492296e+05\n",
      "             Yellow Cab  2.760242e+06\n",
      "     2       Pink Cab    2.152461e+05\n",
      "             Yellow Cab  3.479802e+06\n",
      "     3       Pink Cab    3.813755e+05\n",
      "             Yellow Cab  3.197748e+06\n",
      "     4       Pink Cab    8.676600e+05\n",
      "             Yellow Cab  4.489204e+06\n",
      "2017 1       Pink Cab    3.589230e+05\n",
      "             Yellow Cab  3.602691e+06\n",
      "     2       Pink Cab    2.567173e+05\n",
      "             Yellow Cab  3.924204e+06\n",
      "     3       Pink Cab    4.661954e+05\n",
      "             Yellow Cab  3.760759e+06\n",
      "     4       Pink Cab    9.518192e+05\n",
      "             Yellow Cab  5.288324e+06\n",
      "2018 1       Pink Cab    3.310399e+05\n",
      "             Yellow Cab  3.122696e+06\n",
      "     2       Pink Cab    1.751838e+05\n",
      "             Yellow Cab  3.235419e+06\n",
      "     3       Pink Cab    3.370008e+05\n",
      "             Yellow Cab  2.901709e+06\n",
      "     4       Pink Cab    7.169376e+05\n",
      "             Yellow Cab  4.257576e+06\n"
     ]
    }
   ],
   "source": [
    "grouped = df[['date', 'company', 'profit']].groupby([df.date.dt.year, df.date.dt.quarter, 'company']).sum()\n",
    "grouped.index.names = ['year', 'quarter', 'company']\n",
    "grouped.columns = ['total_profit']\n",
    "print(grouped)"
   ]
  },
  {
   "cell_type": "code",
   "execution_count": 1029,
   "id": "60cfded6",
   "metadata": {},
   "outputs": [
    {
     "data": {
      "text/plain": [
       "Text(0, 0.5, 'profit (millions USD)')"
      ]
     },
     "execution_count": 1029,
     "metadata": {},
     "output_type": "execute_result"
    },
    {
     "data": {
      "image/png": "[encoded data removed]",
      "text/plain": [
       "<Figure size 720x432 with 1 Axes>"
      ]
     },
     "metadata": {
      "needs_background": "light"
     },
     "output_type": "display_data"
    }
   ],
   "source": [
    "import matplotlib.pyplot as plt\n",
    "\n",
    "grouped.unstack().plot(color = ['pink', 'gold'], \n",
    "                       figsize = (10, 6),\n",
    "                       title = 'Total Profit (in Millions USD) per Annual Quarter'\n",
    "                      )\n",
    "plt.legend(['Pink Cab', 'Yellow Cab'],\n",
    "           loc = 'upper left', \n",
    "           prop = {'size': 12}\n",
    "          )\n",
    "plt.xlabel('year, quarter')\n",
    "plt.ylabel('profit (millions USD)')"
   ]
  },
  {
   "cell_type": "markdown",
   "id": "41afa6a2",
   "metadata": {},
   "source": [
    "The gap in quarterly profits becomes quite evident looking at the above graph: Yellow Cab earns at least 3 million USD each quarter (except for Q1 2016 and Q3 2018) while Pink Cab consistenly earns less than 1 million USD each quarter. The profit pattern of Yellow Cab displays more variance than that of Pink Cab but both companies display similar seasonal trends with Q1 being weakest and Q4 the strongest financially. Yellow Cab's quarterly profit pattern displays a positive trend from 2016 to 2017 but slightly dips in 2018 while Pink Cab's profit pattern displays a slightly positive trend from 2016 to 2017 and also takes a slight dip in 2018. Perhaps if Pink Cab showed an aggressively positive profit trend towards the level of Yellow Cab then it would be reasonable to consider its investment potential. However, we see no such trend which only lends more credibility to investing in Yellow Cab.\n",
    "\n",
    "The next question we would like to answer is: \"does there appear to be seasonality in the number of customers using each cab service?\""
   ]
  },
  {
   "cell_type": "code",
   "execution_count": 1030,
   "id": "0b8d4f84",
   "metadata": {
    "scrolled": false
   },
   "outputs": [
    {
     "name": "stdout",
     "output_type": "stream",
     "text": [
      "                         n_customers\n",
      "year quarter company                \n",
      "2016 1       Pink Cab           3208\n",
      "             Yellow Cab        13539\n",
      "     2       Pink Cab           4537\n",
      "             Yellow Cab        16994\n",
      "     3       Pink Cab           7251\n",
      "             Yellow Cab        21862\n",
      "     4       Pink Cab          10084\n",
      "             Yellow Cab        29844\n",
      "2017 1       Pink Cab           4432\n",
      "             Yellow Cab        18031\n",
      "     2       Pink Cab           5294\n",
      "             Yellow Cab        19516\n",
      "     3       Pink Cab           8662\n",
      "             Yellow Cab        25799\n",
      "     4       Pink Cab          11933\n",
      "             Yellow Cab        34843\n",
      "2018 1       Pink Cab           5015\n",
      "             Yellow Cab        18902\n",
      "     2       Pink Cab           5089\n",
      "             Yellow Cab        18418\n",
      "     3       Pink Cab           8074\n",
      "             Yellow Cab        24210\n",
      "     4       Pink Cab          11132\n",
      "             Yellow Cab        32723\n"
     ]
    }
   ],
   "source": [
    "grouped = df[['date', 'company']].groupby([df.date.dt.year, df.date.dt.quarter, 'company']).count()\n",
    "grouped.index.names = ['year', 'quarter', 'company']\n",
    "grouped.columns = ['n_customers']\n",
    "print(grouped)"
   ]
  },
  {
   "cell_type": "code",
   "execution_count": 1031,
   "id": "d779c297",
   "metadata": {},
   "outputs": [
    {
     "data": {
      "text/plain": [
       "Text(0, 0.5, 'number of customers')"
      ]
     },
     "execution_count": 1031,
     "metadata": {},
     "output_type": "execute_result"
    },
    {
     "data": {
      "image/png": "[encoded data removed]",
      "text/plain": [
       "<Figure size 720x432 with 1 Axes>"
      ]
     },
     "metadata": {
      "needs_background": "light"
     },
     "output_type": "display_data"
    }
   ],
   "source": [
    "grouped.unstack().plot(color = ['pink', 'gold'], \n",
    "                       figsize = (10, 6),\n",
    "                       title = 'Number of Customers per Annual Quarter'\n",
    "                      )\n",
    "plt.legend(['Pink Cab', 'Yellow Cab'],\n",
    "           loc = 'upper left', \n",
    "           prop = {'size': 12}\n",
    "          )\n",
    "plt.xlabel('year, quarter')\n",
    "plt.ylabel('number of customers')"
   ]
  },
  {
   "cell_type": "markdown",
   "id": "a84a0529",
   "metadata": {},
   "source": [
    "We see a repeating seasonality trend for both Pink and Yellow Cab. The first annual quarter appears to consistently be the weakest quarter for both companies, seeing a significant drop in customer usage from theimpressive spike in customers during Q4. Second quarter sees a slight improvement in number of customers (except in 2018 for Yellow Cab where the number of customers decreases from Q1 2017). The increase in number of customers during third and fourth quarter appears constant for Pink Cab; while both of these quarters show gains in customer usage for Yellow Cab, there is a noticeably sharp gain during the fourth quarter. Here it becomes quite clear that both companies display similar seasonal trends and that Yellow Cab consistently has more customers than Pink Cab at all times of the year.\n",
    "\n",
    "The next question we would like to answer is: \"which company has more cab users at a particular time period?\""
   ]
  },
  {
   "cell_type": "code",
   "execution_count": 1032,
   "id": "c21b002e",
   "metadata": {},
   "outputs": [
    {
     "name": "stdout",
     "output_type": "stream",
     "text": [
      "                n_customers\n",
      "day company                \n",
      "1   Pink Cab           2875\n",
      "    Yellow Cab         9079\n",
      "2   Pink Cab           2664\n",
      "    Yellow Cab         8702\n",
      "3   Pink Cab           3124\n",
      "...                     ...\n",
      "29  Yellow Cab         8863\n",
      "30  Pink Cab           2537\n",
      "    Yellow Cab         8371\n",
      "31  Pink Cab           1541\n",
      "    Yellow Cab         5349\n",
      "\n",
      "[62 rows x 1 columns]\n"
     ]
    }
   ],
   "source": [
    "grouped = df[['date', 'company']].groupby([df.date.dt.day, 'company']).count()\n",
    "grouped.index.names = ['day', 'company']\n",
    "grouped.columns = ['n_customers']\n",
    "print(grouped)"
   ]
  },
  {
   "cell_type": "code",
   "execution_count": 1033,
   "id": "349b40da",
   "metadata": {},
   "outputs": [
    {
     "data": {
      "text/plain": [
       "Text(0, 0.5, 'number of customers')"
      ]
     },
     "execution_count": 1033,
     "metadata": {},
     "output_type": "execute_result"
    },
    {
     "data": {
      "image/png": "[encoded data removed]",
      "text/plain": [
       "<Figure size 720x432 with 1 Axes>"
      ]
     },
     "metadata": {
      "needs_background": "light"
     },
     "output_type": "display_data"
    }
   ],
   "source": [
    "grouped.unstack().plot(color = ['pink', 'gold'], \n",
    "                       figsize = (10, 6),\n",
    "                       title = 'Number of Customers per Day of Month'\n",
    "                      )\n",
    "plt.legend(['Pink Cab', 'Yellow Cab'],\n",
    "           loc = 'center left', \n",
    "           prop = {'size': 12}\n",
    "          )\n",
    "plt.ylabel('number of customers')"
   ]
  },
  {
   "cell_type": "markdown",
   "id": "35542e81",
   "metadata": {},
   "source": [
    "Comparing daily number of customers between Pink and Yellow Cab, we note some interesting seasonality trends. As expected, Yellow Cab has far more daily customers and a higher variance in number of customers than Pink Cab. Demand for both cab services is highest on the third day of each week and lowest on the following day, the fourth day of each week. Demand plummets for both companies on the last day of each month, but this could be attributed to the fact that only 7 out of 12 months have a 31st day.\n",
    "\n",
    "Next we would like to answer the question: \"how well does each company retain its customers?\""
   ]
  },
  {
   "cell_type": "code",
   "execution_count": 1034,
   "id": "605e7c43",
   "metadata": {},
   "outputs": [
    {
     "name": "stdout",
     "output_type": "stream",
     "text": [
      "customer_id  company   \n",
      "1803         Yellow Cab    47\n",
      "1360         Yellow Cab    47\n",
      "494          Yellow Cab    47\n",
      "636          Yellow Cab    46\n",
      "903          Yellow Cab    45\n",
      "                           ..\n",
      "31198        Pink Cab       1\n",
      "31197        Yellow Cab     1\n",
      "31194        Yellow Cab     1\n",
      "31192        Yellow Cab     1\n",
      "33945        Yellow Cab     1\n",
      "Length: 72226, dtype: int64\n"
     ]
    },
    {
     "data": {
      "text/plain": [
       "Text(0.5, 0, 'number of rides')"
      ]
     },
     "execution_count": 1034,
     "metadata": {},
     "output_type": "execute_result"
    },
    {
     "data": {
      "image/png": "[encoded data removed]",
      "text/plain": [
       "<Figure size 720x432 with 1 Axes>"
      ]
     },
     "metadata": {
      "needs_background": "light"
     },
     "output_type": "display_data"
    }
   ],
   "source": [
    "grouped = df[['customer_id', 'company']].value_counts()\n",
    "print(grouped)\n",
    "\n",
    "grouped.unstack().plot(color = ['pink', 'gold'],\n",
    "                       figsize = (10, 6),\n",
    "                       kind = 'hist',\n",
    "                       alpha = 0.4,\n",
    "                       title = 'Histogram of # Rides per Customer'\n",
    "                       )\n",
    "plt.legend(['Pink Cab', 'Yellow Cab'],\n",
    "           loc = 'upper right', \n",
    "           prop = {'size': 12}\n",
    "          )\n",
    "plt.xlabel('number of rides')"
   ]
  },
  {
   "cell_type": "markdown",
   "id": "1d562827",
   "metadata": {},
   "source": [
    "Looking at the above histogram we note some interesting findings regarding customer retention. Pink Cab has more users who have taken 1-5 rides (~ 29,000 vs 25,000) while Yellow Cab has more customers who have taken 6-10 rides (~ 5,000 vs 4,000) and far more users who have taken more than 10 rides (~ 10,000 vs < 1,000). In fact, Pink Cab has virtually no customers who have taken more than 15 trips with the company. This shows that Yellow Cab does a far better job retaining its customer base, with some customers taking as many as 50 trips and approximately 25% of customers taking more than 10 rides with the company between 2016 & 2018. This alludes to the quality service of Yellow Cab which Pink Cab is not able to match since almost all of its customers took no more than 10 rides during the three-year span.\n",
    "\n",
    "The last question we would like to examine is: \"how do the cab companies compare citywise?\""
   ]
  },
  {
   "cell_type": "code",
   "execution_count": 1035,
   "id": "08cbfce1",
   "metadata": {},
   "outputs": [
    {
     "name": "stdout",
     "output_type": "stream",
     "text": [
      "        customer_id  gender  age  annual_income_usd  transaction_id  \\\n",
      "0             29290    Male   28             129756        10000011   \n",
      "1             29290    Male   28             129756        10351127   \n",
      "2             29290    Male   28             129756        10412921   \n",
      "3             27703    Male   27             110844        10000012   \n",
      "4             27703    Male   27             110844        10320494   \n",
      "...             ...     ...  ...                ...             ...   \n",
      "359387        51406  Female   29              81948        10307228   \n",
      "359388        51406  Female   29              81948        10319775   \n",
      "359389        51406  Female   29              81948        10347676   \n",
      "359390        51406  Female   29              81948        10358624   \n",
      "359391        51406  Female   29              81948        10370709   \n",
      "\n",
      "       payment_mode       date     company           city population  \\\n",
      "0              Card 2016-01-08    Pink Cab     ATLANTA GA   814,885    \n",
      "1              Cash 2018-07-21  Yellow Cab     ATLANTA GA   814,885    \n",
      "2              Card 2018-11-23  Yellow Cab     ATLANTA GA   814,885    \n",
      "3              Card 2016-01-06    Pink Cab     ATLANTA GA   814,885    \n",
      "4              Card 2018-04-21  Yellow Cab     ATLANTA GA   814,885    \n",
      "...             ...        ...         ...            ...        ...   \n",
      "359387         Cash 2018-03-03  Yellow Cab  WASHINGTON DC   418,859    \n",
      "359388         Cash 2018-04-13  Yellow Cab  WASHINGTON DC   418,859    \n",
      "359389         Card 2018-07-06  Yellow Cab  WASHINGTON DC   418,859    \n",
      "359390         Cash 2018-08-02  Yellow Cab  WASHINGTON DC   418,859    \n",
      "359391         Card 2018-08-30  Yellow Cab  WASHINGTON DC   418,859    \n",
      "\n",
      "            users  mi_traveled  price_charged  trip_cost    profit  \n",
      "0         24,701     18.920753         370.95   313.6350   57.3150  \n",
      "1         24,701     16.273712         598.70   317.4228  281.2772  \n",
      "2         24,701     26.439344         792.05   597.4020  194.6480  \n",
      "3         24,701     17.783644         358.52   334.8540   23.6660  \n",
      "4         24,701     22.605484         721.10   467.1192  253.9808  \n",
      "...           ...          ...            ...        ...       ...  \n",
      "359387   127,001     23.860654         668.93   525.3120  143.6180  \n",
      "359388   127,001      2.218295          67.60    44.5536   23.0464  \n",
      "359389   127,001     14.577368         331.97   337.8240   -5.8540  \n",
      "359390   127,001     17.149845         358.23   364.3200   -6.0900  \n",
      "359391   127,001     21.275750         453.11   427.3152   25.7948  \n",
      "\n",
      "[359392 rows x 15 columns]\n",
      "                           n_customers\n",
      "city           company                \n",
      "ATLANTA GA     Pink Cab           1762\n",
      "               Yellow Cab         5795\n",
      "AUSTIN TX      Pink Cab           1868\n",
      "               Yellow Cab         3028\n",
      "BOSTON MA      Pink Cab           5186\n",
      "               Yellow Cab        24506\n",
      "CHICAGO IL     Pink Cab           9361\n",
      "               Yellow Cab        47264\n",
      "DALLAS TX      Pink Cab           1380\n",
      "               Yellow Cab         5637\n",
      "DENVER CO      Pink Cab           1394\n",
      "               Yellow Cab         2431\n",
      "LOS ANGELES CA Pink Cab          19865\n",
      "               Yellow Cab        28168\n",
      "MIAMI FL       Pink Cab           2002\n",
      "               Yellow Cab         4452\n",
      "NASHVILLE TN   Pink Cab           1841\n",
      "               Yellow Cab         1169\n",
      "NEW YORK NY    Pink Cab          13967\n",
      "               Yellow Cab        85918\n",
      "ORANGE COUNTY  Pink Cab           1513\n",
      "               Yellow Cab         2469\n",
      "PHOENIX AZ     Pink Cab            864\n",
      "               Yellow Cab         1200\n",
      "PITTSBURGH PA  Pink Cab            682\n",
      "               Yellow Cab          631\n",
      "SACRAMENTO CA  Pink Cab           1334\n",
      "               Yellow Cab         1033\n",
      "SAN DIEGO CA   Pink Cab          10672\n",
      "               Yellow Cab         9816\n",
      "SEATTLE WA     Pink Cab           2732\n",
      "               Yellow Cab         5265\n",
      "SILICON VALLEY Pink Cab           3797\n",
      "               Yellow Cab         4722\n",
      "TUCSON AZ      Pink Cab            799\n",
      "               Yellow Cab         1132\n",
      "WASHINGTON DC  Pink Cab           3692\n",
      "               Yellow Cab        40045\n"
     ]
    }
   ],
   "source": [
    "print(df)\n",
    "\n",
    "grouped = df[['customer_id','company', 'city']].groupby(['city', 'company']).count()\n",
    "grouped.index.names = ['city', 'company']\n",
    "grouped.columns = ['n_customers']\n",
    "print(grouped)"
   ]
  },
  {
   "cell_type": "code",
   "execution_count": 1036,
   "id": "0dae5ee4",
   "metadata": {},
   "outputs": [
    {
     "data": {
      "text/plain": [
       "Text(0, 0.5, 'number of customers')"
      ]
     },
     "execution_count": 1036,
     "metadata": {},
     "output_type": "execute_result"
    },
    {
     "data": {
      "image/png": "[encoded data removed]",
      "text/plain": [
       "<Figure size 720x432 with 1 Axes>"
      ]
     },
     "metadata": {
      "needs_background": "light"
     },
     "output_type": "display_data"
    }
   ],
   "source": [
    "grouped.unstack().plot.bar(color = ['pink', 'gold'],\n",
    "                           figsize = (10,6),\n",
    "                           rot = 70,\n",
    "                           title = 'Number of Customers by City'\n",
    "                          )\n",
    "plt.legend(['Pink Cab', 'Yellow Cab'],\n",
    "           loc = 'upper right', \n",
    "           prop = {'size': 12}\n",
    "          )\n",
    "plt.ylabel('number of customers')"
   ]
  },
  {
   "cell_type": "markdown",
   "id": "cce6e878",
   "metadata": {},
   "source": [
    "We see above that Yellow Cab has far more customers than Pink Cab in almost every city except for Nashville, TN, Pittsburgh, PA, Sacramento, CA, and San Diego, CA, where Pink Cab has slightly more users. Yellow Cab has far more customers in the major population centers of Chicago, IL (~ 47,000 vs 9,000) and New York, NY (~ 86,000 vs 14,000), which has by far the largest population of the cities above (~ 8.4 million). Yellow Cab is also notably superior in cities such as Boston, MA, Los Angeles, CA and Washington, DC. Unfortunately for Pink Cab, it appears that Yellow Cab takes the cake for most customers in major American population centers."
   ]
  },
  {
   "cell_type": "markdown",
   "id": "8cf52ebd",
   "metadata": {},
   "source": [
    "## Conclusion"
   ]
  },
  {
   "cell_type": "markdown",
   "id": "8d1bd765",
   "metadata": {},
   "source": [
    "After our thorough analysis, it is safe to say that Yellow Cab dominates Pink Cab in profits, number of customers and customer retention as we have seen above; these are key indicators of a healthy business, and Yellow Cab displays strong performance within each in spades. Thus it is in XYZ's best interest to invest in the future of Yellow Cab Company."
   ]
  }
 ],
 "metadata": {
  "kernelspec": {
   "display_name": "Python 3 (ipykernel)",
   "language": "python",
   "name": "python3"
  },
  "language_info": {
   "codemirror_mode": {
    "name": "ipython",
    "version": 3
   },
   "file_extension": ".py",
   "mimetype": "text/x-python",
   "name": "python",
   "nbconvert_exporter": "python",
   "pygments_lexer": "ipython3",
   "version": "3.9.7"
  }
 },
 "nbformat": 4,
 "nbformat_minor": 5
}
